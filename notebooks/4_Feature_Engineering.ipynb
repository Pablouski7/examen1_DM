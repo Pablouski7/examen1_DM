{
 "cells": [
  {
   "cell_type": "code",
   "execution_count": 18,
   "metadata": {},
   "outputs": [],
   "source": [
    "import pandas as pd\n",
    "import numpy as np"
   ]
  },
  {
   "cell_type": "code",
   "execution_count": 19,
   "metadata": {},
   "outputs": [],
   "source": [
    "df = pd.read_csv('../data/processed/dataset_analitico.csv')"
   ]
  },
  {
   "cell_type": "code",
   "execution_count": 20,
   "metadata": {},
   "outputs": [
    {
     "data": {
      "text/plain": [
       "Index(['user_id', 'year_month', 'total_calls', 'total_duration',\n",
       "       'avg_duration', 'total_mb', 'sessions_count', 'total_messages',\n",
       "       'first_name', 'last_name', 'age', 'city', 'reg_date', 'plan',\n",
       "       'churn_date', 'messages_included', 'mb_per_month_included',\n",
       "       'minutes_included', 'usd_monthly_pay', 'usd_per_gb', 'usd_per_message',\n",
       "       'usd_per_minute'],\n",
       "      dtype='object')"
      ]
     },
     "execution_count": 20,
     "metadata": {},
     "output_type": "execute_result"
    }
   ],
   "source": [
    "df.columns"
   ]
  },
  {
   "cell_type": "code",
   "execution_count": 67,
   "metadata": {},
   "outputs": [
    {
     "name": "stdout",
     "output_type": "stream",
     "text": [
      "Original DataFrame: 22 columns\n",
      "Feature Engineered DataFrame: 24 columns\n"
     ]
    }
   ],
   "source": [
    "# Feature engineering con ayuda de claude sonnet 3.7\n",
    "df_fe = df.copy()\n",
    "\n",
    "# Convert date columns to datetime\n",
    "df_fe['reg_date'] = pd.to_datetime(df_fe['reg_date'])\n",
    "df_fe['churn_date'] = pd.to_datetime(df_fe['churn_date'])\n",
    "df_fe['year_month'] = pd.to_datetime(df_fe['year_month'] + '-01')\n",
    "\n",
    "# Flag for churned users (not '2099-12-31')\n",
    "df_fe['is_churned'] = (df_fe['churn_date'] != pd.to_datetime('2099-12-31')).astype(int)\n",
    "\n",
    "# Calculate extra usage beyond plan limits\n",
    "df_fe['extra_minutes'] = np.maximum(0, df_fe['total_duration'] - df_fe['minutes_included'])\n",
    "df_fe['extra_messages'] = np.maximum(0, df_fe['total_messages'] - df_fe['messages_included'])\n",
    "df_fe['extra_mb'] = np.maximum(0, df_fe['total_mb'] - df_fe['mb_per_month_included'])\n",
    "\n",
    "\n",
    "# Usage ratios (% of plan used)\n",
    "df_fe['minutes_usage_ratio'] = df_fe['total_duration'] / df_fe['minutes_included']\n",
    "df_fe['messages_usage_ratio'] = df_fe['total_messages'] / df_fe['messages_included']\n",
    "df_fe['mb_usage_ratio'] = df_fe['total_mb'] / df_fe['mb_per_month_included']\n",
    "\n",
    "\n",
    "# Calculate cost for extra usage\n",
    "df_fe['extra_minutes_cost'] = df_fe['extra_minutes'] * df_fe['usd_per_minute']\n",
    "df_fe['extra_messages_cost'] = df_fe['extra_messages'] * df_fe['usd_per_message']\n",
    "df_fe['extra_mb_cost'] = (df_fe['extra_mb'] / 1024) * df_fe['usd_per_gb']  # Convert MB to GB\n",
    "\n",
    "df_fe = df_fe.drop(['reg_date', 'churn_date', 'minutes_included', 'messages_included', 'mb_per_month_included', 'usd_per_minute', 'usd_per_message', 'usd_per_gb'], axis=1)\n",
    "\n",
    "# Expected total cost\n",
    "df_fe['total_cost'] = (df_fe['usd_monthly_pay'] + \n",
    "                          df_fe['extra_minutes_cost'] + \n",
    "                          df_fe['extra_messages_cost'] + \n",
    "                          df_fe['extra_mb_cost'])\n",
    "\n",
    "df_fe = df_fe.drop(['extra_minutes', 'extra_messages', 'extra_mb', 'extra_minutes_cost', 'extra_messages_cost', 'extra_mb_cost'], axis=1)\n",
    "\n",
    "# Extract region from city\n",
    "# df_fe['region'] = df_fe['city'].str.split(',').str[1].str.strip()\n",
    "# df_fe = pd.get_dummies(df_fe, columns=['region'], prefix='region')\n",
    "df_fe = df_fe.drop('city', axis=1)\n",
    "\n",
    "# One-hot encode plan\n",
    "df_fe = pd.get_dummies(df_fe, columns=['plan'], prefix='plan')\n",
    "\n",
    "# User behavior patterns\n",
    "df_fe['calls_per_session'] = df_fe['total_calls'] / np.maximum(1, df_fe['total_calls'])\n",
    "df_fe['mb_per_session'] = df_fe['total_mb'] / np.maximum(1, df_fe['sessions_count'])\n",
    "df_fe['messages_per_session'] = df_fe['total_messages'] / np.maximum(1, df_fe['total_messages'])\n",
    "df_fe = df_fe.drop(['total_duration', 'total_messages', 'total_mb'], axis=1)\n",
    "\n",
    "# Age groups\n",
    "df_fe['age_group'] = pd.cut(df_fe['age'], bins=[0, 18, 25, 35, 50, 100], labels=['<18', '18-25', '26-35', '36-50', '50+'])\n",
    "df_fe = pd.get_dummies(df_fe, columns=['age_group'], prefix='age')\n",
    "df_fe = df_fe.drop('age', axis=1)\n",
    "\n",
    "df_fe['lag1_total_cost'] = df_fe['total_cost'].shift(1)\n",
    "df_fe['lag1_total_cost'] = df_fe['lag1_total_cost'].fillna(0)\n",
    "\n",
    "# Display shape comparison\n",
    "print(f\"Original DataFrame: {df.shape[1]} columns\")\n",
    "print(f\"Feature Engineered DataFrame: {df_fe.shape[1]} columns\")"
   ]
  },
  {
   "cell_type": "code",
   "execution_count": 68,
   "metadata": {},
   "outputs": [
    {
     "name": "stdout",
     "output_type": "stream",
     "text": [
      "Index(['user_id', 'year_month', 'total_calls', 'avg_duration',\n",
      "       'sessions_count', 'first_name', 'last_name', 'usd_monthly_pay',\n",
      "       'is_churned', 'minutes_usage_ratio', 'messages_usage_ratio',\n",
      "       'mb_usage_ratio', 'total_cost', 'plan_surf', 'plan_ultimate',\n",
      "       'calls_per_session', 'mb_per_session', 'messages_per_session',\n",
      "       'age_<18', 'age_18-25', 'age_26-35', 'age_36-50', 'age_50+',\n",
      "       'lag1_total_cost'],\n",
      "      dtype='object')\n"
     ]
    }
   ],
   "source": [
    "print(df_fe.columns)\n",
    "df_fe.to_csv('../data/ml/dataset_ml.csv', index=False)"
   ]
  }
 ],
 "metadata": {
  "kernelspec": {
   "display_name": "Python 3",
   "language": "python",
   "name": "python3"
  },
  "language_info": {
   "codemirror_mode": {
    "name": "ipython",
    "version": 3
   },
   "file_extension": ".py",
   "mimetype": "text/x-python",
   "name": "python",
   "nbconvert_exporter": "python",
   "pygments_lexer": "ipython3",
   "version": "3.13.2"
  }
 },
 "nbformat": 4,
 "nbformat_minor": 2
}
