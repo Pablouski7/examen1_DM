{
 "cells": [
  {
   "cell_type": "markdown",
   "metadata": {},
   "source": [
    "Los modelos de regresión implementados—incluyendo Regresión Lineal, Ridge, Lasso y Gradiente Descendente Estocástico—han demostrado un desempeño consistente en la predicción del costo total que un usuario pagará en el próximo mes, con coeficientes de determinación (R²) alrededor del 74%. Esto indica que las variables seleccionadas explican aproximadamente el 74% de la variabilidad en el costo total. Sin embargo, los errores obtenidos (RMSE cercanos al 20% y MAE alrededor del 15%) señalan que aún existe una brecha significativa entre las predicciones y los valores reales. Estos resultados sugieren que, si bien el modelo captura patrones importantes, es necesario incorporar más variables relevantes o profundizar en el análisis de las características actuales para mejorar la precisión predictiva y ofrecer a TelcoAndes insights más sólidos para la planificación estratégica y la personalización de ofertas."
   ]
  }
 ],
 "metadata": {
  "language_info": {
   "name": "python"
  }
 },
 "nbformat": 4,
 "nbformat_minor": 2
}
