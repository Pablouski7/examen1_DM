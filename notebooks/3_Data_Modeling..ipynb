{
 "cells": [
  {
   "cell_type": "code",
   "execution_count": 1,
   "metadata": {},
   "outputs": [],
   "source": [
    "import pandas as pd"
   ]
  },
  {
   "cell_type": "code",
   "execution_count": 2,
   "metadata": {},
   "outputs": [],
   "source": [
    "# Creación de la dimensión de Tiempo (dim_tiempo)\n",
    "\n",
    "dataset = '../data/processed/dataset_analitico.csv'\n",
    "df_analitico = pd.read_csv(dataset, low_memory=False)\n",
    "\n",
    "# Extraer los periodos únicos (year_month)\n",
    "dim_tiempo = df_analitico[['year_month']].drop_duplicates().reset_index(drop=True)\n",
    "dim_tiempo['year_month'] = dim_tiempo['year_month'].astype(str)\n",
    "\n",
    "# Desglosar el año, mes y calcular el trimestre\n",
    "dim_tiempo['year'] = dim_tiempo['year_month'].str.split('-').str[0].astype(int)\n",
    "dim_tiempo['month'] = dim_tiempo['year_month'].str.split('-').str[1].astype(int)\n",
    "dim_tiempo['quarter'] = dim_tiempo['month'].apply(lambda m: (m - 1) // 3 + 1)\n",
    "\n",
    "# Asignar un identificador único (time_id)\n",
    "dim_tiempo.reset_index(inplace=True)\n",
    "dim_tiempo.rename(columns={'index': 'time_id'}, inplace=True)\n",
    "dim_tiempo['time_id'] = dim_tiempo['time_id'] + 1  # Para que comience en 1\n",
    "\n",
    "# Guardar la dimensión de tiempo\n",
    "dim_tiempo_file = '../data/processed/modeling/dim_tiempo.csv'\n",
    "dim_tiempo.to_csv(dim_tiempo_file, index=False)\n"
   ]
  },
  {
   "cell_type": "code",
   "execution_count": 3,
   "metadata": {},
   "outputs": [],
   "source": [
    "# Creación de la dimensión de Usuarios (dim_usuarios)\n",
    "\n",
    "users_file = '../data/processed/megaline_users_clean.csv'\n",
    "dim_usuarios = pd.read_csv(users_file, low_memory=False)\n",
    "\n",
    "# Guardar la dimensión de usuarios\n",
    "dim_usuarios_file = '../data/processed/modeling/dim_usuarios.csv'\n",
    "dim_usuarios.to_csv(dim_usuarios_file, index=False)"
   ]
  },
  {
   "cell_type": "code",
   "execution_count": 4,
   "metadata": {},
   "outputs": [],
   "source": [
    "# Creación de la dimensión de Planes (dim_planes)\n",
    "\n",
    "# Cargar la tabla de planes limpia\n",
    "plans_file = '../data/processed/megaline_plans_clean.csv'\n",
    "dim_planes = pd.read_csv(plans_file, low_memory=False)\n",
    "dim_planes.rename(columns={'plan_name': 'plan'}, inplace=True)\n",
    "\n",
    "# Guardar la dimensión de planes\n",
    "dim_planes_file = '../data/processed/modeling/dim_planes.csv'\n",
    "dim_planes.to_csv(dim_planes_file, index=False)\n"
   ]
  },
  {
   "cell_type": "code",
   "execution_count": null,
   "metadata": {},
   "outputs": [],
   "source": [
    "# Modelamiento con ayuda de claude sonnet 3.7\n",
    "dataset = '../data/processed/dataset_analitico.csv'\n",
    "df_analitico = pd.read_csv(dataset, low_memory=False)\n",
    "\n",
    "# Cargar la dimensión de tiempo para obtener el time_id\n",
    "dim_tiempo_file = '../data/processed/modeling/dim_tiempo.csv'\n",
    "dim_tiempo = pd.read_csv(dim_tiempo_file, low_memory=False)\n",
    "\n",
    "# Unir df_analitico con la dimensión de tiempo a través de 'year_month'\n",
    "df_fact = df_analitico.merge(dim_tiempo[['time_id', 'year_month']], on='year_month', how='left')\n",
    "\n",
    "# Renombrar la columna 'plan' a 'plan_id' para el join con la dimensión de planes\n",
    "df_fact.rename(columns={'plan': 'plan_id'}, inplace=True)\n",
    "\n",
    "# Seleccionar las columnas que formarán la tabla de hechos\n",
    "fact_columns = [\n",
    "    'user_id',      \n",
    "    'time_id',     \n",
    "    'plan_id',      \n",
    "    'total_calls',\n",
    "    'total_duration',\n",
    "    'avg_duration',\n",
    "    'total_mb',\n",
    "    'sessions_count',\n",
    "    'total_messages'\n",
    "]\n",
    "fact_facturacion = df_fact[fact_columns]\n",
    "\n",
    "# Guardar la tabla de hechos\n",
    "fact_facturacion_file = '../data/processed/modeling/fact_facturacion.csv'\n",
    "fact_facturacion.to_csv(fact_facturacion_file, index=False)\n"
   ]
  },
  {
   "cell_type": "markdown",
   "metadata": {},
   "source": [
    "Explicación del Modelo (Star Schema)\n",
    "\n",
    "Dimensiones:\n",
    "\n",
    "dim_usuarios: Contiene información del usuario (user_id, first_name, last_name, age, city, reg_date, churn_date, etc.). Se obtiene a partir del archivo megaline_users_clean.csv.\n",
    "dim_planes: Contiene la información de los planes (plan_id, nombre, costo mensual, minutos, SMS, datos incluidos, etc.), proveniente de megaline_plans_clean.csv. En tu código se renombró la columna de plan.\n",
    "dim_tiempo: Se creó a partir del campo year_month del dataset analítico, desglosando año, mes y trimestre, y asignándole un identificador único time_id.\n",
    "Tabla de Hechos (fact_facturación):\n",
    "\n",
    "Cada registro representa el consumo de un usuario en un periodo determinado (por ejemplo, un mes).\n",
    "Llaves foráneas:\n",
    "user_id que relaciona con dim_usuarios.\n",
    "plan_id que relaciona con dim_planes.\n",
    "time_id que relaciona con dim_tiempo.\n",
    "Medidas (Facts):\n",
    "Consumos agregados: total_calls, total_duration, avg_duration, total_mb, sessions_count, total_messages.\n",
    "\n",
    "Este modelo en forma de Star Schema permite almacenar la información de forma centralizada en la tabla de hechos, con dimensiones que aportan el contexto (usuarios, planes y tiempo) para realizar consultas y análisis agregados de manera eficiente. Luego, estas relaciones facilitan la preparación del dataset final para entrenar modelos predictivos (por ejemplo, para predecir el costo total que pagará un usuario en el próximo mes)."
   ]
  }
 ],
 "metadata": {
  "kernelspec": {
   "display_name": "Python 3",
   "language": "python",
   "name": "python3"
  },
  "language_info": {
   "codemirror_mode": {
    "name": "ipython",
    "version": 3
   },
   "file_extension": ".py",
   "mimetype": "text/x-python",
   "name": "python",
   "nbconvert_exporter": "python",
   "pygments_lexer": "ipython3",
   "version": "3.13.2"
  }
 },
 "nbformat": 4,
 "nbformat_minor": 2
}
